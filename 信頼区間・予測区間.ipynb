{
  "nbformat": 4,
  "nbformat_minor": 0,
  "metadata": {
    "colab": {
      "name": "信頼区間・予測区間.ipynb",
      "provenance": [],
      "authorship_tag": "ABX9TyMFIcSqfP2RX+0s+jkVLG1b",
      "include_colab_link": true
    },
    "kernelspec": {
      "name": "python3",
      "display_name": "Python 3"
    },
    "language_info": {
      "name": "python"
    }
  },
  "cells": [
    {
      "cell_type": "markdown",
      "metadata": {
        "id": "view-in-github",
        "colab_type": "text"
      },
      "source": [
        "<a href=\"https://colab.research.google.com/github/kooose38/pystan_practice/blob/main/%E4%BF%A1%E9%A0%BC%E5%8C%BA%E9%96%93%E3%83%BB%E4%BA%88%E6%B8%AC%E5%8C%BA%E9%96%93.ipynb\" target=\"_parent\"><img src=\"https://colab.research.google.com/assets/colab-badge.svg\" alt=\"Open In Colab\"/></a>"
      ]
    },
    {
      "cell_type": "code",
      "execution_count": 1,
      "metadata": {
        "colab": {
          "base_uri": "https://localhost:8080/"
        },
        "id": "fdngjK1rvkHV",
        "outputId": "3f5285c4-4167-4963-9337-d4757f242ab0"
      },
      "outputs": [
        {
          "output_type": "stream",
          "name": "stdout",
          "text": [
            "Requirement already satisfied: pystan in /usr/local/lib/python3.7/dist-packages (2.19.1.1)\n",
            "Requirement already satisfied: numpy>=1.7 in /usr/local/lib/python3.7/dist-packages (from pystan) (1.19.5)\n",
            "Requirement already satisfied: Cython!=0.25.1,>=0.22 in /usr/local/lib/python3.7/dist-packages (from pystan) (0.29.24)\n"
          ]
        }
      ],
      "source": [
        "!pip install pystan"
      ]
    },
    {
      "cell_type": "code",
      "source": [
        "import pandas as pd \n",
        "import numpy as np \n",
        "import matplotlib.pyplot as plt\n",
        "import pystan \n",
        "from scipy.stats import mstats"
      ],
      "metadata": {
        "id": "-0Tx1DqXvl9z"
      },
      "execution_count": 2,
      "outputs": []
    },
    {
      "cell_type": "code",
      "source": [
        "plt.style.use(\"ggplot\")"
      ],
      "metadata": {
        "id": "1SYGhARNv4WI"
      },
      "execution_count": 3,
      "outputs": []
    },
    {
      "cell_type": "code",
      "source": [
        "df = pd.read_excel(\"real_estate1.xlsx\")\n",
        "df.head()"
      ],
      "metadata": {
        "colab": {
          "base_uri": "https://localhost:8080/",
          "height": 206
        },
        "id": "4XFdm10Xv7pR",
        "outputId": "17e26a8b-e533-4002-d96b-8d3c3e61324a"
      },
      "execution_count": 4,
      "outputs": [
        {
          "output_type": "execute_result",
          "data": {
            "text/html": [
              "\n",
              "  <div id=\"df-23c20feb-f6a5-4aaa-895a-f381445b9836\">\n",
              "    <div class=\"colab-df-container\">\n",
              "      <div>\n",
              "<style scoped>\n",
              "    .dataframe tbody tr th:only-of-type {\n",
              "        vertical-align: middle;\n",
              "    }\n",
              "\n",
              "    .dataframe tbody tr th {\n",
              "        vertical-align: top;\n",
              "    }\n",
              "\n",
              "    .dataframe thead th {\n",
              "        text-align: right;\n",
              "    }\n",
              "</style>\n",
              "<table border=\"1\" class=\"dataframe\">\n",
              "  <thead>\n",
              "    <tr style=\"text-align: right;\">\n",
              "      <th></th>\n",
              "      <th>id</th>\n",
              "      <th>space</th>\n",
              "      <th>room</th>\n",
              "      <th>value</th>\n",
              "    </tr>\n",
              "  </thead>\n",
              "  <tbody>\n",
              "    <tr>\n",
              "      <th>0</th>\n",
              "      <td>1</td>\n",
              "      <td>50</td>\n",
              "      <td>2LDK</td>\n",
              "      <td>3050</td>\n",
              "    </tr>\n",
              "    <tr>\n",
              "      <th>1</th>\n",
              "      <td>2</td>\n",
              "      <td>70</td>\n",
              "      <td>2LDK</td>\n",
              "      <td>4690</td>\n",
              "    </tr>\n",
              "    <tr>\n",
              "      <th>2</th>\n",
              "      <td>3</td>\n",
              "      <td>70</td>\n",
              "      <td>2SLDK</td>\n",
              "      <td>4830</td>\n",
              "    </tr>\n",
              "    <tr>\n",
              "      <th>3</th>\n",
              "      <td>4</td>\n",
              "      <td>70</td>\n",
              "      <td>3LDK</td>\n",
              "      <td>5040</td>\n",
              "    </tr>\n",
              "    <tr>\n",
              "      <th>4</th>\n",
              "      <td>5</td>\n",
              "      <td>90</td>\n",
              "      <td>3LDK</td>\n",
              "      <td>6570</td>\n",
              "    </tr>\n",
              "  </tbody>\n",
              "</table>\n",
              "</div>\n",
              "      <button class=\"colab-df-convert\" onclick=\"convertToInteractive('df-23c20feb-f6a5-4aaa-895a-f381445b9836')\"\n",
              "              title=\"Convert this dataframe to an interactive table.\"\n",
              "              style=\"display:none;\">\n",
              "        \n",
              "  <svg xmlns=\"http://www.w3.org/2000/svg\" height=\"24px\"viewBox=\"0 0 24 24\"\n",
              "       width=\"24px\">\n",
              "    <path d=\"M0 0h24v24H0V0z\" fill=\"none\"/>\n",
              "    <path d=\"M18.56 5.44l.94 2.06.94-2.06 2.06-.94-2.06-.94-.94-2.06-.94 2.06-2.06.94zm-11 1L8.5 8.5l.94-2.06 2.06-.94-2.06-.94L8.5 2.5l-.94 2.06-2.06.94zm10 10l.94 2.06.94-2.06 2.06-.94-2.06-.94-.94-2.06-.94 2.06-2.06.94z\"/><path d=\"M17.41 7.96l-1.37-1.37c-.4-.4-.92-.59-1.43-.59-.52 0-1.04.2-1.43.59L10.3 9.45l-7.72 7.72c-.78.78-.78 2.05 0 2.83L4 21.41c.39.39.9.59 1.41.59.51 0 1.02-.2 1.41-.59l7.78-7.78 2.81-2.81c.8-.78.8-2.07 0-2.86zM5.41 20L4 18.59l7.72-7.72 1.47 1.35L5.41 20z\"/>\n",
              "  </svg>\n",
              "      </button>\n",
              "      \n",
              "  <style>\n",
              "    .colab-df-container {\n",
              "      display:flex;\n",
              "      flex-wrap:wrap;\n",
              "      gap: 12px;\n",
              "    }\n",
              "\n",
              "    .colab-df-convert {\n",
              "      background-color: #E8F0FE;\n",
              "      border: none;\n",
              "      border-radius: 50%;\n",
              "      cursor: pointer;\n",
              "      display: none;\n",
              "      fill: #1967D2;\n",
              "      height: 32px;\n",
              "      padding: 0 0 0 0;\n",
              "      width: 32px;\n",
              "    }\n",
              "\n",
              "    .colab-df-convert:hover {\n",
              "      background-color: #E2EBFA;\n",
              "      box-shadow: 0px 1px 2px rgba(60, 64, 67, 0.3), 0px 1px 3px 1px rgba(60, 64, 67, 0.15);\n",
              "      fill: #174EA6;\n",
              "    }\n",
              "\n",
              "    [theme=dark] .colab-df-convert {\n",
              "      background-color: #3B4455;\n",
              "      fill: #D2E3FC;\n",
              "    }\n",
              "\n",
              "    [theme=dark] .colab-df-convert:hover {\n",
              "      background-color: #434B5C;\n",
              "      box-shadow: 0px 1px 3px 1px rgba(0, 0, 0, 0.15);\n",
              "      filter: drop-shadow(0px 1px 2px rgba(0, 0, 0, 0.3));\n",
              "      fill: #FFFFFF;\n",
              "    }\n",
              "  </style>\n",
              "\n",
              "      <script>\n",
              "        const buttonEl =\n",
              "          document.querySelector('#df-23c20feb-f6a5-4aaa-895a-f381445b9836 button.colab-df-convert');\n",
              "        buttonEl.style.display =\n",
              "          google.colab.kernel.accessAllowed ? 'block' : 'none';\n",
              "\n",
              "        async function convertToInteractive(key) {\n",
              "          const element = document.querySelector('#df-23c20feb-f6a5-4aaa-895a-f381445b9836');\n",
              "          const dataTable =\n",
              "            await google.colab.kernel.invokeFunction('convertToInteractive',\n",
              "                                                     [key], {});\n",
              "          if (!dataTable) return;\n",
              "\n",
              "          const docLinkHtml = 'Like what you see? Visit the ' +\n",
              "            '<a target=\"_blank\" href=https://colab.research.google.com/notebooks/data_table.ipynb>data table notebook</a>'\n",
              "            + ' to learn more about interactive tables.';\n",
              "          element.innerHTML = '';\n",
              "          dataTable['output_type'] = 'display_data';\n",
              "          await google.colab.output.renderOutput(dataTable, element);\n",
              "          const docLink = document.createElement('div');\n",
              "          docLink.innerHTML = docLinkHtml;\n",
              "          element.appendChild(docLink);\n",
              "        }\n",
              "      </script>\n",
              "    </div>\n",
              "  </div>\n",
              "  "
            ],
            "text/plain": [
              "   id  space   room  value\n",
              "0   1     50   2LDK   3050\n",
              "1   2     70   2LDK   4690\n",
              "2   3     70  2SLDK   4830\n",
              "3   4     70   3LDK   5040\n",
              "4   5     90   3LDK   6570"
            ]
          },
          "metadata": {},
          "execution_count": 4
        }
      ]
    },
    {
      "cell_type": "code",
      "source": [
        "stan_model = \"\"\"\n",
        "data {\n",
        "    int N;\n",
        "    real X[N];\n",
        "    real Y[N];\n",
        "    int N_s;\n",
        "    real X_s[N_s];\n",
        "}\n",
        "\n",
        "parameters {\n",
        "    real a;\n",
        "    real b;\n",
        "    real<lower=0> sigma;\n",
        "}\n",
        "\n",
        "model {\n",
        "    for(i in 1:N) {\n",
        "        Y[i] ~ normal(a * X[i] + b, sigma);\n",
        "    }\n",
        "}\n",
        "\n",
        "generated quantities {\n",
        "    real Y_s[N_s];\n",
        "    for(n in 1:N_s) {\n",
        "        Y_s[n] = normal_rng(a * X_s[n] + b, sigma);\n",
        "    }\n",
        "}\n",
        "\"\"\""
      ],
      "metadata": {
        "id": "HEwbRs3swBsr"
      },
      "execution_count": 5,
      "outputs": []
    },
    {
      "cell_type": "code",
      "source": [
        "sm = pystan.StanModel(model_code=stan_model)"
      ],
      "metadata": {
        "colab": {
          "base_uri": "https://localhost:8080/"
        },
        "id": "tJ_cPLCCw10F",
        "outputId": "5e3a51c0-b185-4172-aa46-577bc3d57d03"
      },
      "execution_count": 6,
      "outputs": [
        {
          "output_type": "stream",
          "name": "stderr",
          "text": [
            "INFO:pystan:COMPILING THE C++ CODE FOR MODEL anon_model_38d131782451b2fe90c70df9f6d7ec42 NOW.\n"
          ]
        }
      ]
    },
    {
      "cell_type": "code",
      "source": [
        "# 信頼区間検知のためのランダムデータ\n",
        "X_s = np.arange(40, 90, 1)\n",
        "N_s = X_s.shape[0]\n",
        "\n",
        "stan_data = {\"N\": df.shape[0], \"X\": df.space, \"Y\": df[\"value\"], \"X_s\": X_s, \"N_s\": N_s}"
      ],
      "metadata": {
        "id": "HFBQlGX7w6BO"
      },
      "execution_count": 7,
      "outputs": []
    },
    {
      "cell_type": "code",
      "source": [
        "fit = sm.sampling(data=stan_data, iter=2000, warmup=500, chains=3, seed=123)"
      ],
      "metadata": {
        "id": "9aXf5tp4xg7t"
      },
      "execution_count": 9,
      "outputs": []
    },
    {
      "cell_type": "markdown",
      "source": [
        "## 信頼区間"
      ],
      "metadata": {
        "id": "HBVMyuJE0d5t"
      }
    },
    {
      "cell_type": "code",
      "source": [
        "# パラメータaのサンプリング結果\n",
        "fit.extract(\"a\")"
      ],
      "metadata": {
        "colab": {
          "base_uri": "https://localhost:8080/"
        },
        "id": "Xm6vKrGjxs0e",
        "outputId": "66ba4b3f-50da-40f1-c2ee-626b90cc76f9"
      },
      "execution_count": 10,
      "outputs": [
        {
          "output_type": "execute_result",
          "data": {
            "text/plain": [
              "OrderedDict([('a',\n",
              "              array([76.6522497 , 75.02583173, 73.41362221, ..., 96.23822878,\n",
              "                     84.90923043, 67.46528237]))])"
            ]
          },
          "metadata": {},
          "execution_count": 10
        }
      ]
    },
    {
      "cell_type": "code",
      "source": [
        "ms_a = fit.extract(\"a\")[\"a\"]\n",
        "plt.hist(ms_a)"
      ],
      "metadata": {
        "colab": {
          "base_uri": "https://localhost:8080/",
          "height": 338
        },
        "id": "jBqK7ffWx0-o",
        "outputId": "ed8353a6-5458-4c7c-cd3d-f5bccd8f5daa"
      },
      "execution_count": 13,
      "outputs": [
        {
          "output_type": "execute_result",
          "data": {
            "text/plain": [
              "(array([   7.,   64.,  268.,  796., 1401., 1257.,  567.,  121.,   13.,\n",
              "           6.]), array([ 31.92072252,  41.56973874,  51.21875495,  60.86777117,\n",
              "         70.51678738,  80.1658036 ,  89.81481982,  99.46383603,\n",
              "        109.11285225, 118.76186846, 128.41088468]), <a list of 10 Patch objects>)"
            ]
          },
          "metadata": {},
          "execution_count": 13
        },
        {
          "output_type": "display_data",
          "data": {
            "image/png": "[encoded data removed]",
            "text/plain": [
              "<Figure size 432x288 with 1 Axes>"
            ]
          },
          "metadata": {}
        }
      ]
    },
    {
      "cell_type": "code",
      "source": [
        "ms_b = fit.extract(\"b\")[\"b\"]"
      ],
      "metadata": {
        "id": "Ka_07W5HyDMM"
      },
      "execution_count": 14,
      "outputs": []
    },
    {
      "cell_type": "code",
      "source": [
        "# サンプリングされたパラメータから予測直線を複数抽出する\n",
        "df_b = pd.DataFrame([])\n",
        "for i in range(40, 90, 1):\n",
        "    df_b[i] = ms_a * i * ms_b  \n",
        "\n",
        "df_b.head()"
      ],
      "metadata": {
        "colab": {
          "base_uri": "https://localhost:8080/",
          "height": 270
        },
        "id": "w6IYVa_BySkn",
        "outputId": "19c28ff5-6b0f-456d-be1e-ec85ca9cc0f2"
      },
      "execution_count": 15,
      "outputs": [
        {
          "output_type": "execute_result",
          "data": {
            "text/html": [
              "\n",
              "  <div id=\"df-37c4ffd6-0602-48ac-be7b-c02b4e19e929\">\n",
              "    <div class=\"colab-df-container\">\n",
              "      <div>\n",
              "<style scoped>\n",
              "    .dataframe tbody tr th:only-of-type {\n",
              "        vertical-align: middle;\n",
              "    }\n",
              "\n",
              "    .dataframe tbody tr th {\n",
              "        vertical-align: top;\n",
              "    }\n",
              "\n",
              "    .dataframe thead th {\n",
              "        text-align: right;\n",
              "    }\n",
              "</style>\n",
              "<table border=\"1\" class=\"dataframe\">\n",
              "  <thead>\n",
              "    <tr style=\"text-align: right;\">\n",
              "      <th></th>\n",
              "      <th>40</th>\n",
              "      <th>41</th>\n",
              "      <th>42</th>\n",
              "      <th>43</th>\n",
              "      <th>44</th>\n",
              "      <th>45</th>\n",
              "      <th>46</th>\n",
              "      <th>47</th>\n",
              "      <th>48</th>\n",
              "      <th>49</th>\n",
              "      <th>50</th>\n",
              "      <th>51</th>\n",
              "      <th>52</th>\n",
              "      <th>53</th>\n",
              "      <th>54</th>\n",
              "      <th>55</th>\n",
              "      <th>56</th>\n",
              "      <th>57</th>\n",
              "      <th>58</th>\n",
              "      <th>59</th>\n",
              "      <th>60</th>\n",
              "      <th>61</th>\n",
              "      <th>62</th>\n",
              "      <th>63</th>\n",
              "      <th>64</th>\n",
              "      <th>65</th>\n",
              "      <th>66</th>\n",
              "      <th>67</th>\n",
              "      <th>68</th>\n",
              "      <th>69</th>\n",
              "      <th>70</th>\n",
              "      <th>71</th>\n",
              "      <th>72</th>\n",
              "      <th>73</th>\n",
              "      <th>74</th>\n",
              "      <th>75</th>\n",
              "      <th>76</th>\n",
              "      <th>77</th>\n",
              "      <th>78</th>\n",
              "      <th>79</th>\n",
              "      <th>80</th>\n",
              "      <th>81</th>\n",
              "      <th>82</th>\n",
              "      <th>83</th>\n",
              "      <th>84</th>\n",
              "      <th>85</th>\n",
              "      <th>86</th>\n",
              "      <th>87</th>\n",
              "      <th>88</th>\n",
              "      <th>89</th>\n",
              "    </tr>\n",
              "  </thead>\n",
              "  <tbody>\n",
              "    <tr>\n",
              "      <th>0</th>\n",
              "      <td>-2.214209e+06</td>\n",
              "      <td>-2.269565e+06</td>\n",
              "      <td>-2.324920e+06</td>\n",
              "      <td>-2.380275e+06</td>\n",
              "      <td>-2.435630e+06</td>\n",
              "      <td>-2.490986e+06</td>\n",
              "      <td>-2.546341e+06</td>\n",
              "      <td>-2.601696e+06</td>\n",
              "      <td>-2.657051e+06</td>\n",
              "      <td>-2.712407e+06</td>\n",
              "      <td>-2.767762e+06</td>\n",
              "      <td>-2.823117e+06</td>\n",
              "      <td>-2.878472e+06</td>\n",
              "      <td>-2.933828e+06</td>\n",
              "      <td>-2.989183e+06</td>\n",
              "      <td>-3.044538e+06</td>\n",
              "      <td>-3.099893e+06</td>\n",
              "      <td>-3.155249e+06</td>\n",
              "      <td>-3.210604e+06</td>\n",
              "      <td>-3.265959e+06</td>\n",
              "      <td>-3.321314e+06</td>\n",
              "      <td>-3.376669e+06</td>\n",
              "      <td>-3.432025e+06</td>\n",
              "      <td>-3.487380e+06</td>\n",
              "      <td>-3.542735e+06</td>\n",
              "      <td>-3.598090e+06</td>\n",
              "      <td>-3.653446e+06</td>\n",
              "      <td>-3.708801e+06</td>\n",
              "      <td>-3.764156e+06</td>\n",
              "      <td>-3.819511e+06</td>\n",
              "      <td>-3.874867e+06</td>\n",
              "      <td>-3.930222e+06</td>\n",
              "      <td>-3.985577e+06</td>\n",
              "      <td>-4.040932e+06</td>\n",
              "      <td>-4.096288e+06</td>\n",
              "      <td>-4.151643e+06</td>\n",
              "      <td>-4.206998e+06</td>\n",
              "      <td>-4.262353e+06</td>\n",
              "      <td>-4.317709e+06</td>\n",
              "      <td>-4.373064e+06</td>\n",
              "      <td>-4.428419e+06</td>\n",
              "      <td>-4.483774e+06</td>\n",
              "      <td>-4.539129e+06</td>\n",
              "      <td>-4.594485e+06</td>\n",
              "      <td>-4.649840e+06</td>\n",
              "      <td>-4.705195e+06</td>\n",
              "      <td>-4.760550e+06</td>\n",
              "      <td>-4.815906e+06</td>\n",
              "      <td>-4.871261e+06</td>\n",
              "      <td>-4.926616e+06</td>\n",
              "    </tr>\n",
              "    <tr>\n",
              "      <th>1</th>\n",
              "      <td>-9.593582e+05</td>\n",
              "      <td>-9.833422e+05</td>\n",
              "      <td>-1.007326e+06</td>\n",
              "      <td>-1.031310e+06</td>\n",
              "      <td>-1.055294e+06</td>\n",
              "      <td>-1.079278e+06</td>\n",
              "      <td>-1.103262e+06</td>\n",
              "      <td>-1.127246e+06</td>\n",
              "      <td>-1.151230e+06</td>\n",
              "      <td>-1.175214e+06</td>\n",
              "      <td>-1.199198e+06</td>\n",
              "      <td>-1.223182e+06</td>\n",
              "      <td>-1.247166e+06</td>\n",
              "      <td>-1.271150e+06</td>\n",
              "      <td>-1.295134e+06</td>\n",
              "      <td>-1.319118e+06</td>\n",
              "      <td>-1.343102e+06</td>\n",
              "      <td>-1.367085e+06</td>\n",
              "      <td>-1.391069e+06</td>\n",
              "      <td>-1.415053e+06</td>\n",
              "      <td>-1.439037e+06</td>\n",
              "      <td>-1.463021e+06</td>\n",
              "      <td>-1.487005e+06</td>\n",
              "      <td>-1.510989e+06</td>\n",
              "      <td>-1.534973e+06</td>\n",
              "      <td>-1.558957e+06</td>\n",
              "      <td>-1.582941e+06</td>\n",
              "      <td>-1.606925e+06</td>\n",
              "      <td>-1.630909e+06</td>\n",
              "      <td>-1.654893e+06</td>\n",
              "      <td>-1.678877e+06</td>\n",
              "      <td>-1.702861e+06</td>\n",
              "      <td>-1.726845e+06</td>\n",
              "      <td>-1.750829e+06</td>\n",
              "      <td>-1.774813e+06</td>\n",
              "      <td>-1.798797e+06</td>\n",
              "      <td>-1.822781e+06</td>\n",
              "      <td>-1.846765e+06</td>\n",
              "      <td>-1.870749e+06</td>\n",
              "      <td>-1.894733e+06</td>\n",
              "      <td>-1.918716e+06</td>\n",
              "      <td>-1.942700e+06</td>\n",
              "      <td>-1.966684e+06</td>\n",
              "      <td>-1.990668e+06</td>\n",
              "      <td>-2.014652e+06</td>\n",
              "      <td>-2.038636e+06</td>\n",
              "      <td>-2.062620e+06</td>\n",
              "      <td>-2.086604e+06</td>\n",
              "      <td>-2.110588e+06</td>\n",
              "      <td>-2.134572e+06</td>\n",
              "    </tr>\n",
              "    <tr>\n",
              "      <th>2</th>\n",
              "      <td>-1.116520e+06</td>\n",
              "      <td>-1.144433e+06</td>\n",
              "      <td>-1.172347e+06</td>\n",
              "      <td>-1.200260e+06</td>\n",
              "      <td>-1.228173e+06</td>\n",
              "      <td>-1.256086e+06</td>\n",
              "      <td>-1.283999e+06</td>\n",
              "      <td>-1.311912e+06</td>\n",
              "      <td>-1.339825e+06</td>\n",
              "      <td>-1.367738e+06</td>\n",
              "      <td>-1.395651e+06</td>\n",
              "      <td>-1.423564e+06</td>\n",
              "      <td>-1.451477e+06</td>\n",
              "      <td>-1.479390e+06</td>\n",
              "      <td>-1.507303e+06</td>\n",
              "      <td>-1.535216e+06</td>\n",
              "      <td>-1.563129e+06</td>\n",
              "      <td>-1.591042e+06</td>\n",
              "      <td>-1.618955e+06</td>\n",
              "      <td>-1.646868e+06</td>\n",
              "      <td>-1.674781e+06</td>\n",
              "      <td>-1.702694e+06</td>\n",
              "      <td>-1.730607e+06</td>\n",
              "      <td>-1.758520e+06</td>\n",
              "      <td>-1.786433e+06</td>\n",
              "      <td>-1.814346e+06</td>\n",
              "      <td>-1.842259e+06</td>\n",
              "      <td>-1.870172e+06</td>\n",
              "      <td>-1.898085e+06</td>\n",
              "      <td>-1.925998e+06</td>\n",
              "      <td>-1.953911e+06</td>\n",
              "      <td>-1.981824e+06</td>\n",
              "      <td>-2.009737e+06</td>\n",
              "      <td>-2.037650e+06</td>\n",
              "      <td>-2.065563e+06</td>\n",
              "      <td>-2.093476e+06</td>\n",
              "      <td>-2.121389e+06</td>\n",
              "      <td>-2.149302e+06</td>\n",
              "      <td>-2.177215e+06</td>\n",
              "      <td>-2.205128e+06</td>\n",
              "      <td>-2.233041e+06</td>\n",
              "      <td>-2.260954e+06</td>\n",
              "      <td>-2.288867e+06</td>\n",
              "      <td>-2.316780e+06</td>\n",
              "      <td>-2.344693e+06</td>\n",
              "      <td>-2.372606e+06</td>\n",
              "      <td>-2.400519e+06</td>\n",
              "      <td>-2.428432e+06</td>\n",
              "      <td>-2.456345e+06</td>\n",
              "      <td>-2.484258e+06</td>\n",
              "    </tr>\n",
              "    <tr>\n",
              "      <th>3</th>\n",
              "      <td>7.588768e+05</td>\n",
              "      <td>7.778488e+05</td>\n",
              "      <td>7.968207e+05</td>\n",
              "      <td>8.157926e+05</td>\n",
              "      <td>8.347645e+05</td>\n",
              "      <td>8.537365e+05</td>\n",
              "      <td>8.727084e+05</td>\n",
              "      <td>8.916803e+05</td>\n",
              "      <td>9.106522e+05</td>\n",
              "      <td>9.296241e+05</td>\n",
              "      <td>9.485961e+05</td>\n",
              "      <td>9.675680e+05</td>\n",
              "      <td>9.865399e+05</td>\n",
              "      <td>1.005512e+06</td>\n",
              "      <td>1.024484e+06</td>\n",
              "      <td>1.043456e+06</td>\n",
              "      <td>1.062428e+06</td>\n",
              "      <td>1.081400e+06</td>\n",
              "      <td>1.100371e+06</td>\n",
              "      <td>1.119343e+06</td>\n",
              "      <td>1.138315e+06</td>\n",
              "      <td>1.157287e+06</td>\n",
              "      <td>1.176259e+06</td>\n",
              "      <td>1.195231e+06</td>\n",
              "      <td>1.214203e+06</td>\n",
              "      <td>1.233175e+06</td>\n",
              "      <td>1.252147e+06</td>\n",
              "      <td>1.271119e+06</td>\n",
              "      <td>1.290091e+06</td>\n",
              "      <td>1.309063e+06</td>\n",
              "      <td>1.328034e+06</td>\n",
              "      <td>1.347006e+06</td>\n",
              "      <td>1.365978e+06</td>\n",
              "      <td>1.384950e+06</td>\n",
              "      <td>1.403922e+06</td>\n",
              "      <td>1.422894e+06</td>\n",
              "      <td>1.441866e+06</td>\n",
              "      <td>1.460838e+06</td>\n",
              "      <td>1.479810e+06</td>\n",
              "      <td>1.498782e+06</td>\n",
              "      <td>1.517754e+06</td>\n",
              "      <td>1.536726e+06</td>\n",
              "      <td>1.555698e+06</td>\n",
              "      <td>1.574669e+06</td>\n",
              "      <td>1.593641e+06</td>\n",
              "      <td>1.612613e+06</td>\n",
              "      <td>1.631585e+06</td>\n",
              "      <td>1.650557e+06</td>\n",
              "      <td>1.669529e+06</td>\n",
              "      <td>1.688501e+06</td>\n",
              "    </tr>\n",
              "    <tr>\n",
              "      <th>4</th>\n",
              "      <td>1.005445e+06</td>\n",
              "      <td>1.030581e+06</td>\n",
              "      <td>1.055718e+06</td>\n",
              "      <td>1.080854e+06</td>\n",
              "      <td>1.105990e+06</td>\n",
              "      <td>1.131126e+06</td>\n",
              "      <td>1.156262e+06</td>\n",
              "      <td>1.181398e+06</td>\n",
              "      <td>1.206534e+06</td>\n",
              "      <td>1.231670e+06</td>\n",
              "      <td>1.256807e+06</td>\n",
              "      <td>1.281943e+06</td>\n",
              "      <td>1.307079e+06</td>\n",
              "      <td>1.332215e+06</td>\n",
              "      <td>1.357351e+06</td>\n",
              "      <td>1.382487e+06</td>\n",
              "      <td>1.407623e+06</td>\n",
              "      <td>1.432759e+06</td>\n",
              "      <td>1.457896e+06</td>\n",
              "      <td>1.483032e+06</td>\n",
              "      <td>1.508168e+06</td>\n",
              "      <td>1.533304e+06</td>\n",
              "      <td>1.558440e+06</td>\n",
              "      <td>1.583576e+06</td>\n",
              "      <td>1.608712e+06</td>\n",
              "      <td>1.633849e+06</td>\n",
              "      <td>1.658985e+06</td>\n",
              "      <td>1.684121e+06</td>\n",
              "      <td>1.709257e+06</td>\n",
              "      <td>1.734393e+06</td>\n",
              "      <td>1.759529e+06</td>\n",
              "      <td>1.784665e+06</td>\n",
              "      <td>1.809801e+06</td>\n",
              "      <td>1.834938e+06</td>\n",
              "      <td>1.860074e+06</td>\n",
              "      <td>1.885210e+06</td>\n",
              "      <td>1.910346e+06</td>\n",
              "      <td>1.935482e+06</td>\n",
              "      <td>1.960618e+06</td>\n",
              "      <td>1.985754e+06</td>\n",
              "      <td>2.010890e+06</td>\n",
              "      <td>2.036027e+06</td>\n",
              "      <td>2.061163e+06</td>\n",
              "      <td>2.086299e+06</td>\n",
              "      <td>2.111435e+06</td>\n",
              "      <td>2.136571e+06</td>\n",
              "      <td>2.161707e+06</td>\n",
              "      <td>2.186843e+06</td>\n",
              "      <td>2.211980e+06</td>\n",
              "      <td>2.237116e+06</td>\n",
              "    </tr>\n",
              "  </tbody>\n",
              "</table>\n",
              "</div>\n",
              "      <button class=\"colab-df-convert\" onclick=\"convertToInteractive('df-37c4ffd6-0602-48ac-be7b-c02b4e19e929')\"\n",
              "              title=\"Convert this dataframe to an interactive table.\"\n",
              "              style=\"display:none;\">\n",
              "        \n",
              "  <svg xmlns=\"http://www.w3.org/2000/svg\" height=\"24px\"viewBox=\"0 0 24 24\"\n",
              "       width=\"24px\">\n",
              "    <path d=\"M0 0h24v24H0V0z\" fill=\"none\"/>\n",
              "    <path d=\"M18.56 5.44l.94 2.06.94-2.06 2.06-.94-2.06-.94-.94-2.06-.94 2.06-2.06.94zm-11 1L8.5 8.5l.94-2.06 2.06-.94-2.06-.94L8.5 2.5l-.94 2.06-2.06.94zm10 10l.94 2.06.94-2.06 2.06-.94-2.06-.94-.94-2.06-.94 2.06-2.06.94z\"/><path d=\"M17.41 7.96l-1.37-1.37c-.4-.4-.92-.59-1.43-.59-.52 0-1.04.2-1.43.59L10.3 9.45l-7.72 7.72c-.78.78-.78 2.05 0 2.83L4 21.41c.39.39.9.59 1.41.59.51 0 1.02-.2 1.41-.59l7.78-7.78 2.81-2.81c.8-.78.8-2.07 0-2.86zM5.41 20L4 18.59l7.72-7.72 1.47 1.35L5.41 20z\"/>\n",
              "  </svg>\n",
              "      </button>\n",
              "      \n",
              "  <style>\n",
              "    .colab-df-container {\n",
              "      display:flex;\n",
              "      flex-wrap:wrap;\n",
              "      gap: 12px;\n",
              "    }\n",
              "\n",
              "    .colab-df-convert {\n",
              "      background-color: #E8F0FE;\n",
              "      border: none;\n",
              "      border-radius: 50%;\n",
              "      cursor: pointer;\n",
              "      display: none;\n",
              "      fill: #1967D2;\n",
              "      height: 32px;\n",
              "      padding: 0 0 0 0;\n",
              "      width: 32px;\n",
              "    }\n",
              "\n",
              "    .colab-df-convert:hover {\n",
              "      background-color: #E2EBFA;\n",
              "      box-shadow: 0px 1px 2px rgba(60, 64, 67, 0.3), 0px 1px 3px 1px rgba(60, 64, 67, 0.15);\n",
              "      fill: #174EA6;\n",
              "    }\n",
              "\n",
              "    [theme=dark] .colab-df-convert {\n",
              "      background-color: #3B4455;\n",
              "      fill: #D2E3FC;\n",
              "    }\n",
              "\n",
              "    [theme=dark] .colab-df-convert:hover {\n",
              "      background-color: #434B5C;\n",
              "      box-shadow: 0px 1px 3px 1px rgba(0, 0, 0, 0.15);\n",
              "      filter: drop-shadow(0px 1px 2px rgba(0, 0, 0, 0.3));\n",
              "      fill: #FFFFFF;\n",
              "    }\n",
              "  </style>\n",
              "\n",
              "      <script>\n",
              "        const buttonEl =\n",
              "          document.querySelector('#df-37c4ffd6-0602-48ac-be7b-c02b4e19e929 button.colab-df-convert');\n",
              "        buttonEl.style.display =\n",
              "          google.colab.kernel.accessAllowed ? 'block' : 'none';\n",
              "\n",
              "        async function convertToInteractive(key) {\n",
              "          const element = document.querySelector('#df-37c4ffd6-0602-48ac-be7b-c02b4e19e929');\n",
              "          const dataTable =\n",
              "            await google.colab.kernel.invokeFunction('convertToInteractive',\n",
              "                                                     [key], {});\n",
              "          if (!dataTable) return;\n",
              "\n",
              "          const docLinkHtml = 'Like what you see? Visit the ' +\n",
              "            '<a target=\"_blank\" href=https://colab.research.google.com/notebooks/data_table.ipynb>data table notebook</a>'\n",
              "            + ' to learn more about interactive tables.';\n",
              "          element.innerHTML = '';\n",
              "          dataTable['output_type'] = 'display_data';\n",
              "          await google.colab.output.renderOutput(dataTable, element);\n",
              "          const docLink = document.createElement('div');\n",
              "          docLink.innerHTML = docLinkHtml;\n",
              "          element.appendChild(docLink);\n",
              "        }\n",
              "      </script>\n",
              "    </div>\n",
              "  </div>\n",
              "  "
            ],
            "text/plain": [
              "             40            41  ...            88            89\n",
              "0 -2.214209e+06 -2.269565e+06  ... -4.871261e+06 -4.926616e+06\n",
              "1 -9.593582e+05 -9.833422e+05  ... -2.110588e+06 -2.134572e+06\n",
              "2 -1.116520e+06 -1.144433e+06  ... -2.456345e+06 -2.484258e+06\n",
              "3  7.588768e+05  7.778488e+05  ...  1.669529e+06  1.688501e+06\n",
              "4  1.005445e+06  1.030581e+06  ...  2.211980e+06  2.237116e+06\n",
              "\n",
              "[5 rows x 50 columns]"
            ]
          },
          "metadata": {},
          "execution_count": 15
        }
      ]
    },
    {
      "cell_type": "code",
      "source": [
        "df_b.shape"
      ],
      "metadata": {
        "colab": {
          "base_uri": "https://localhost:8080/"
        },
        "id": "zEj2nD_WypLN",
        "outputId": "497405e1-8637-4228-f726-b1c145fdbb88"
      },
      "execution_count": 16,
      "outputs": [
        {
          "output_type": "execute_result",
          "data": {
            "text/plain": [
              "(4500, 50)"
            ]
          },
          "metadata": {},
          "execution_count": 16
        }
      ]
    },
    {
      "cell_type": "code",
      "source": [
        "# 4500個のパラメータからの結果を信頼区間内に絞る\n",
        "# 50%信頼区間\n",
        "low_y50, high_y50 = mstats.mquantiles(df_b, [0.25, 0.75], axis=0)\n",
        "# 95%信頼区間\n",
        "low_y95, high_y95 = mstats.mquantiles(df_b, [0.025, 0.975], axis=0)"
      ],
      "metadata": {
        "id": "Ult6qTG2y2CS"
      },
      "execution_count": 17,
      "outputs": []
    },
    {
      "cell_type": "code",
      "source": [
        "low_y50.shape"
      ],
      "metadata": {
        "colab": {
          "base_uri": "https://localhost:8080/"
        },
        "id": "-8JY_TSPziTo",
        "outputId": "9dfc04d1-a3ff-45ff-90b4-d682ea2fb854"
      },
      "execution_count": 19,
      "outputs": [
        {
          "output_type": "execute_result",
          "data": {
            "text/plain": [
              "(50,)"
            ]
          },
          "metadata": {},
          "execution_count": 19
        }
      ]
    },
    {
      "cell_type": "code",
      "source": [
        "plt.scatter(df[\"space\"], df[\"value\"])\n",
        "plt.fill_between(X_s, low_y50, high_y50, alpha=0.6, color=\"darkgray\")\n",
        "plt.fill_between(X_s, low_y95, high_y95, alpha=0.3, color=\"gray\")\n",
        "a = 77.96 \n",
        "b = -691.7\n",
        "y = a * X_s + b \n",
        "\n",
        "plt.plot(X_s, y, color=\"black\")"
      ],
      "metadata": {
        "colab": {
          "base_uri": "https://localhost:8080/",
          "height": 294
        },
        "id": "t0IRCbP5zj4r",
        "outputId": "1414e208-b271-44ea-99c8-81e4565f44db"
      },
      "execution_count": 20,
      "outputs": [
        {
          "output_type": "execute_result",
          "data": {
            "text/plain": [
              "[<matplotlib.lines.Line2D at 0x7fb12bfcbfd0>]"
            ]
          },
          "metadata": {},
          "execution_count": 20
        },
        {
          "output_type": "display_data",
          "data": {
            "image/png": "[encoded data removed]",
            "text/plain": [
              "<Figure size 432x288 with 1 Axes>"
            ]
          },
          "metadata": {}
        }
      ]
    },
    {
      "cell_type": "markdown",
      "source": [
        "## 予測区間"
      ],
      "metadata": {
        "id": "x_ROtb4N09Lm"
      }
    },
    {
      "cell_type": "code",
      "source": [
        "# ランダムデータのサンプリング分の予測値\n",
        "Y_p = fit.extract(\"Y_s\")[\"Y_s\"]"
      ],
      "metadata": {
        "id": "pdONtoV70UEs"
      },
      "execution_count": 21,
      "outputs": []
    },
    {
      "cell_type": "code",
      "source": [
        "Y_p.shape"
      ],
      "metadata": {
        "colab": {
          "base_uri": "https://localhost:8080/"
        },
        "id": "NjflPW2M1HEo",
        "outputId": "3e21a25f-142b-4927-8d9a-f6b0a24be25d"
      },
      "execution_count": 23,
      "outputs": [
        {
          "output_type": "execute_result",
          "data": {
            "text/plain": [
              "(4500, 50)"
            ]
          },
          "metadata": {},
          "execution_count": 23
        }
      ]
    },
    {
      "cell_type": "code",
      "source": [
        "low_y, high_y = mstats.mquantiles(Y_p, [0.025, 0.975], axis=0)"
      ],
      "metadata": {
        "id": "N4CmysKw1Iem"
      },
      "execution_count": 24,
      "outputs": []
    },
    {
      "cell_type": "code",
      "source": [
        "plt.scatter(df[\"space\"], df[\"value\"])\n",
        "plt.fill_between(X_s, low_y, high_y, alpha=0.6, color=\"darkgray\")\n",
        "a = 77.96 \n",
        "b = -691.7\n",
        "y = a * X_s + b \n",
        "\n",
        "plt.plot(X_s, y, color=\"black\")"
      ],
      "metadata": {
        "colab": {
          "base_uri": "https://localhost:8080/",
          "height": 283
        },
        "id": "icm64AZy1gdg",
        "outputId": "b032024a-e158-4212-fd6f-f556d01b6c68"
      },
      "execution_count": 25,
      "outputs": [
        {
          "output_type": "execute_result",
          "data": {
            "text/plain": [
              "[<matplotlib.lines.Line2D at 0x7fb12bd97290>]"
            ]
          },
          "metadata": {},
          "execution_count": 25
        },
        {
          "output_type": "display_data",
          "data": {
            "image/png": "[encoded data removed]",
            "text/plain": [
              "<Figure size 432x288 with 1 Axes>"
            ]
          },
          "metadata": {}
        }
      ]
    },
    {
      "cell_type": "code",
      "source": [
        ""
      ],
      "metadata": {
        "id": "TLuT8S-M1oFu"
      },
      "execution_count": null,
      "outputs": []
    }
  ]
}