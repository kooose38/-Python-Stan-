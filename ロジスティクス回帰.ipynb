{
  "nbformat": 4,
  "nbformat_minor": 0,
  "metadata": {
    "colab": {
      "name": "ロジスティクス回帰.ipynb",
      "provenance": [],
      "authorship_tag": "ABX9TyM7VYY7qb/gO294M5IZ2pJh",
      "include_colab_link": true
    },
    "kernelspec": {
      "name": "python3",
      "display_name": "Python 3"
    },
    "language_info": {
      "name": "python"
    }
  },
  "cells": [
    {
      "cell_type": "markdown",
      "metadata": {
        "id": "view-in-github",
        "colab_type": "text"
      },
      "source": [
        "<a href=\"https://colab.research.google.com/github/kooose38/pystan_practice/blob/main/%E3%83%AD%E3%82%B8%E3%82%B9%E3%83%86%E3%82%A3%E3%82%AF%E3%82%B9%E5%9B%9E%E5%B8%B0.ipynb\" target=\"_parent\"><img src=\"https://colab.research.google.com/assets/colab-badge.svg\" alt=\"Open In Colab\"/></a>"
      ]
    },
    {
      "cell_type": "code",
      "execution_count": 10,
      "metadata": {
        "colab": {
          "base_uri": "https://localhost:8080/"
        },
        "id": "qaj9bjbn63ef",
        "outputId": "52aff136-63f2-4e6e-89ce-0423a03f3e1e"
      },
      "outputs": [
        {
          "output_type": "stream",
          "name": "stdout",
          "text": [
            "Archive:  data.zip\n",
            "replace data/data.xlsx? [y]es, [n]o, [A]ll, [N]one, [r]ename: "
          ]
        }
      ],
      "source": [
        "!unzip data.zip "
      ]
    },
    {
      "cell_type": "code",
      "source": [
        "!pip install -q pystan "
      ],
      "metadata": {
        "id": "rdh7T_Eu7CVY"
      },
      "execution_count": 11,
      "outputs": []
    },
    {
      "cell_type": "code",
      "source": [
        "import pandas as pd \n",
        "import numpy as np \n",
        "import matplotlib.pyplot as plt\n",
        "import pystan \n",
        "from scipy.stats import mstats "
      ],
      "metadata": {
        "id": "tDX7stBA7HxJ"
      },
      "execution_count": 13,
      "outputs": []
    },
    {
      "cell_type": "code",
      "source": [
        "plt.style.use(\"ggplot\")"
      ],
      "metadata": {
        "id": "IdaZeTEU7TQ1"
      },
      "execution_count": 14,
      "outputs": []
    },
    {
      "cell_type": "code",
      "source": [
        "df = pd.read_excel(\"data/dose_response.xlsx\")\n",
        "df.head()"
      ],
      "metadata": {
        "colab": {
          "base_uri": "https://localhost:8080/",
          "height": 206
        },
        "id": "DBGC3QLs7V11",
        "outputId": "471a2e64-7ac1-43a7-d764-09c9a774d152"
      },
      "execution_count": 15,
      "outputs": [
        {
          "output_type": "execute_result",
          "data": {
            "text/html": [
              "\n",
              "  <div id=\"df-affe92cd-aca6-4488-a1aa-cd64c0e89443\">\n",
              "    <div class=\"colab-df-container\">\n",
              "      <div>\n",
              "<style scoped>\n",
              "    .dataframe tbody tr th:only-of-type {\n",
              "        vertical-align: middle;\n",
              "    }\n",
              "\n",
              "    .dataframe tbody tr th {\n",
              "        vertical-align: top;\n",
              "    }\n",
              "\n",
              "    .dataframe thead th {\n",
              "        text-align: right;\n",
              "    }\n",
              "</style>\n",
              "<table border=\"1\" class=\"dataframe\">\n",
              "  <thead>\n",
              "    <tr style=\"text-align: right;\">\n",
              "      <th></th>\n",
              "      <th>log10 C</th>\n",
              "      <th>death</th>\n",
              "    </tr>\n",
              "  </thead>\n",
              "  <tbody>\n",
              "    <tr>\n",
              "      <th>0</th>\n",
              "      <td>0.95</td>\n",
              "      <td>0</td>\n",
              "    </tr>\n",
              "    <tr>\n",
              "      <th>1</th>\n",
              "      <td>0.94</td>\n",
              "      <td>0</td>\n",
              "    </tr>\n",
              "    <tr>\n",
              "      <th>2</th>\n",
              "      <td>0.95</td>\n",
              "      <td>0</td>\n",
              "    </tr>\n",
              "    <tr>\n",
              "      <th>3</th>\n",
              "      <td>0.96</td>\n",
              "      <td>0</td>\n",
              "    </tr>\n",
              "    <tr>\n",
              "      <th>4</th>\n",
              "      <td>0.99</td>\n",
              "      <td>0</td>\n",
              "    </tr>\n",
              "  </tbody>\n",
              "</table>\n",
              "</div>\n",
              "      <button class=\"colab-df-convert\" onclick=\"convertToInteractive('df-affe92cd-aca6-4488-a1aa-cd64c0e89443')\"\n",
              "              title=\"Convert this dataframe to an interactive table.\"\n",
              "              style=\"display:none;\">\n",
              "        \n",
              "  <svg xmlns=\"http://www.w3.org/2000/svg\" height=\"24px\"viewBox=\"0 0 24 24\"\n",
              "       width=\"24px\">\n",
              "    <path d=\"M0 0h24v24H0V0z\" fill=\"none\"/>\n",
              "    <path d=\"M18.56 5.44l.94 2.06.94-2.06 2.06-.94-2.06-.94-.94-2.06-.94 2.06-2.06.94zm-11 1L8.5 8.5l.94-2.06 2.06-.94-2.06-.94L8.5 2.5l-.94 2.06-2.06.94zm10 10l.94 2.06.94-2.06 2.06-.94-2.06-.94-.94-2.06-.94 2.06-2.06.94z\"/><path d=\"M17.41 7.96l-1.37-1.37c-.4-.4-.92-.59-1.43-.59-.52 0-1.04.2-1.43.59L10.3 9.45l-7.72 7.72c-.78.78-.78 2.05 0 2.83L4 21.41c.39.39.9.59 1.41.59.51 0 1.02-.2 1.41-.59l7.78-7.78 2.81-2.81c.8-.78.8-2.07 0-2.86zM5.41 20L4 18.59l7.72-7.72 1.47 1.35L5.41 20z\"/>\n",
              "  </svg>\n",
              "      </button>\n",
              "      \n",
              "  <style>\n",
              "    .colab-df-container {\n",
              "      display:flex;\n",
              "      flex-wrap:wrap;\n",
              "      gap: 12px;\n",
              "    }\n",
              "\n",
              "    .colab-df-convert {\n",
              "      background-color: #E8F0FE;\n",
              "      border: none;\n",
              "      border-radius: 50%;\n",
              "      cursor: pointer;\n",
              "      display: none;\n",
              "      fill: #1967D2;\n",
              "      height: 32px;\n",
              "      padding: 0 0 0 0;\n",
              "      width: 32px;\n",
              "    }\n",
              "\n",
              "    .colab-df-convert:hover {\n",
              "      background-color: #E2EBFA;\n",
              "      box-shadow: 0px 1px 2px rgba(60, 64, 67, 0.3), 0px 1px 3px 1px rgba(60, 64, 67, 0.15);\n",
              "      fill: #174EA6;\n",
              "    }\n",
              "\n",
              "    [theme=dark] .colab-df-convert {\n",
              "      background-color: #3B4455;\n",
              "      fill: #D2E3FC;\n",
              "    }\n",
              "\n",
              "    [theme=dark] .colab-df-convert:hover {\n",
              "      background-color: #434B5C;\n",
              "      box-shadow: 0px 1px 3px 1px rgba(0, 0, 0, 0.15);\n",
              "      filter: drop-shadow(0px 1px 2px rgba(0, 0, 0, 0.3));\n",
              "      fill: #FFFFFF;\n",
              "    }\n",
              "  </style>\n",
              "\n",
              "      <script>\n",
              "        const buttonEl =\n",
              "          document.querySelector('#df-affe92cd-aca6-4488-a1aa-cd64c0e89443 button.colab-df-convert');\n",
              "        buttonEl.style.display =\n",
              "          google.colab.kernel.accessAllowed ? 'block' : 'none';\n",
              "\n",
              "        async function convertToInteractive(key) {\n",
              "          const element = document.querySelector('#df-affe92cd-aca6-4488-a1aa-cd64c0e89443');\n",
              "          const dataTable =\n",
              "            await google.colab.kernel.invokeFunction('convertToInteractive',\n",
              "                                                     [key], {});\n",
              "          if (!dataTable) return;\n",
              "\n",
              "          const docLinkHtml = 'Like what you see? Visit the ' +\n",
              "            '<a target=\"_blank\" href=https://colab.research.google.com/notebooks/data_table.ipynb>data table notebook</a>'\n",
              "            + ' to learn more about interactive tables.';\n",
              "          element.innerHTML = '';\n",
              "          dataTable['output_type'] = 'display_data';\n",
              "          await google.colab.output.renderOutput(dataTable, element);\n",
              "          const docLink = document.createElement('div');\n",
              "          docLink.innerHTML = docLinkHtml;\n",
              "          element.appendChild(docLink);\n",
              "        }\n",
              "      </script>\n",
              "    </div>\n",
              "  </div>\n",
              "  "
            ],
            "text/plain": [
              "   log10 C  death\n",
              "0     0.95      0\n",
              "1     0.94      0\n",
              "2     0.95      0\n",
              "3     0.96      0\n",
              "4     0.99      0"
            ]
          },
          "metadata": {},
          "execution_count": 15
        }
      ]
    },
    {
      "cell_type": "markdown",
      "source": [
        "ラベルは２値分類でロジット関数に従う。  \n",
        "事後分布は*ベルヌーイ分布*に従うと仮定する。  "
      ],
      "metadata": {
        "id": "7M-fDY70OJcT"
      }
    },
    {
      "cell_type": "code",
      "source": [
        "plt.scatter(df[\"log10 C\"], df[\"death\"])\n",
        "plt.ylim([0.0, 1.0])\n",
        "plt.xlabel(\"log10 C\")\n",
        "plt.ylabel(\"death\")\n",
        "plt.show()"
      ],
      "metadata": {
        "colab": {
          "base_uri": "https://localhost:8080/",
          "height": 285
        },
        "id": "A3dyOERk7cQc",
        "outputId": "c3a03ec9-fbe2-496c-c18d-c345ca8a2bc7"
      },
      "execution_count": 16,
      "outputs": [
        {
          "output_type": "display_data",
          "data": {
            "image/png": "[encoded data removed]",
            "text/plain": [
              "<Figure size 432x288 with 1 Axes>"
            ]
          },
          "metadata": {}
        }
      ]
    },
    {
      "cell_type": "code",
      "source": [
        "stan_model = \"\"\"\n",
        "data {\n",
        "    int N;\n",
        "    real X[N];\n",
        "    int<lower=0, upper=1> Y[N];\n",
        "\n",
        "}\n",
        "\n",
        "parameters {\n",
        "    real a;\n",
        "    real b;\n",
        "\n",
        "}\n",
        "\n",
        "model {\n",
        "    for (i in 1:N) {\n",
        "        Y[i] ~ bernoulli_logit(a * X[i] + b);\n",
        "    }\n",
        "}\n",
        "\n",
        "\"\"\""
      ],
      "metadata": {
        "id": "WWD6M-oF7ixc"
      },
      "execution_count": 19,
      "outputs": []
    },
    {
      "cell_type": "code",
      "source": [
        "sm = pystan.StanModel(model_code=stan_model)"
      ],
      "metadata": {
        "colab": {
          "base_uri": "https://localhost:8080/"
        },
        "id": "t_9ZSNejOqPM",
        "outputId": "3d1411cd-c26c-4442-fa08-68959aebd313"
      },
      "execution_count": 20,
      "outputs": [
        {
          "output_type": "stream",
          "name": "stderr",
          "text": [
            "INFO:pystan:COMPILING THE C++ CODE FOR MODEL anon_model_fe5e752eced791d08c9b23aa5daf3a2d NOW.\n"
          ]
        }
      ]
    },
    {
      "cell_type": "code",
      "source": [
        "stan_data = {\"N\": df.shape[0], \"X\": df[\"log10 C\"], \"Y\": df[\"death\"]}"
      ],
      "metadata": {
        "id": "JYBJhOTiOtKg"
      },
      "execution_count": 22,
      "outputs": []
    },
    {
      "cell_type": "code",
      "source": [
        "fit = sm.sampling(data=stan_data, iter=2000, warmup=500, chains=3, seed=123)"
      ],
      "metadata": {
        "id": "mdBwlcgfO36K"
      },
      "execution_count": 23,
      "outputs": []
    },
    {
      "cell_type": "markdown",
      "source": [
        "`Rhat`が1.1以下であることを確認."
      ],
      "metadata": {
        "id": "D6DXQjXIPQJ4"
      }
    },
    {
      "cell_type": "code",
      "source": [
        "fit"
      ],
      "metadata": {
        "colab": {
          "base_uri": "https://localhost:8080/"
        },
        "id": "AtyAWlroPKzy",
        "outputId": "a2015725-9c9e-46a3-d384-f2d913bbc8a2"
      },
      "execution_count": 43,
      "outputs": [
        {
          "output_type": "execute_result",
          "data": {
            "text/plain": [
              "Inference for Stan model: anon_model_fe5e752eced791d08c9b23aa5daf3a2d.\n",
              "3 chains, each with iter=2000; warmup=500; thin=1; \n",
              "post-warmup draws per chain=1500, total post-warmup draws=4500.\n",
              "\n",
              "       mean se_mean     sd   2.5%    25%    50%    75%  97.5%  n_eff   Rhat\n",
              "a     13.74    0.14   3.39   8.31  11.28  13.28  15.87  21.55    615    1.0\n",
              "b    -20.53    0.21   5.12 -32.19 -23.68 -19.84 -16.84 -12.28    620    1.0\n",
              "lp__ -14.95    0.03   1.06  -17.8 -15.38 -14.62 -14.18 -13.89    926    1.0\n",
              "\n",
              "Samples were drawn using NUTS at Wed Jan  5 07:55:48 2022.\n",
              "For each parameter, n_eff is a crude measure of effective sample size,\n",
              "and Rhat is the potential scale reduction factor on split chains (at \n",
              "convergence, Rhat=1)."
            ]
          },
          "metadata": {},
          "execution_count": 43
        }
      ]
    },
    {
      "cell_type": "code",
      "source": [
        "a, b = 13.74, -20.53 "
      ],
      "metadata": {
        "id": "tfYmZOQLPLm4"
      },
      "execution_count": 25,
      "outputs": []
    },
    {
      "cell_type": "code",
      "source": [
        "fig = fit.plot()"
      ],
      "metadata": {
        "colab": {
          "base_uri": "https://localhost:8080/",
          "height": 320
        },
        "id": "BHOcaeOBPgrf",
        "outputId": "2bc2b6f5-533f-4929-ad6d-404168bed71d"
      },
      "execution_count": 26,
      "outputs": [
        {
          "output_type": "stream",
          "name": "stderr",
          "text": [
            "WARNING:pystan:Deprecation warning. PyStan plotting deprecated, use ArviZ library (Python 3.5+). `pip install arviz`; `arviz.plot_trace(fit)`)\n"
          ]
        },
        {
          "output_type": "display_data",
          "data": {
            "image/png": "[encoded data removed]",
            "text/plain": [
              "<Figure size 432x288 with 4 Axes>"
            ]
          },
          "metadata": {}
        }
      ]
    },
    {
      "cell_type": "markdown",
      "source": [
        "## 予測信頼区間"
      ],
      "metadata": {
        "id": "-P9Eljn9Pvsh"
      }
    },
    {
      "cell_type": "code",
      "source": [
        "ms_a = fit.extract(\"a\")[\"a\"]\n",
        "ms_b = fit.extract(\"b\")[\"b\"]"
      ],
      "metadata": {
        "id": "HriNX19JPiAE"
      },
      "execution_count": 44,
      "outputs": []
    },
    {
      "cell_type": "code",
      "source": [
        "x = np.arange(1.0, 2.0, 0.01) # サンプリングするデータ\n",
        "f = lambda x: 1.0 / (1.0 +  np.exp(-x) )  # ロジット関数\n",
        "df_b = pd.DataFrame([])\n",
        "\n",
        "for i in range(x.shape[0]):\n",
        "    df_b[x[i]] = f(ms_a * x[i] + ms_b)"
      ],
      "metadata": {
        "id": "3NBxPXSQP3Ae"
      },
      "execution_count": 49,
      "outputs": []
    },
    {
      "cell_type": "code",
      "source": [
        "df_b.head()"
      ],
      "metadata": {
        "colab": {
          "base_uri": "https://localhost:8080/",
          "height": 300
        },
        "id": "gqt6Ztx0QNZs",
        "outputId": "7370657d-1cd5-4e48-be37-1ede0e670472"
      },
      "execution_count": 50,
      "outputs": [
        {
          "output_type": "execute_result",
          "data": {
            "text/html": [
              "\n",
              "  <div id=\"df-7af12a3f-d39f-405a-8059-3e0eb3d5d127\">\n",
              "    <div class=\"colab-df-container\">\n",
              "      <div>\n",
              "<style scoped>\n",
              "    .dataframe tbody tr th:only-of-type {\n",
              "        vertical-align: middle;\n",
              "    }\n",
              "\n",
              "    .dataframe tbody tr th {\n",
              "        vertical-align: top;\n",
              "    }\n",
              "\n",
              "    .dataframe thead th {\n",
              "        text-align: right;\n",
              "    }\n",
              "</style>\n",
              "<table border=\"1\" class=\"dataframe\">\n",
              "  <thead>\n",
              "    <tr style=\"text-align: right;\">\n",
              "      <th></th>\n",
              "      <th>1.00</th>\n",
              "      <th>1.01</th>\n",
              "      <th>1.02</th>\n",
              "      <th>1.03</th>\n",
              "      <th>1.04</th>\n",
              "      <th>1.05</th>\n",
              "      <th>1.06</th>\n",
              "      <th>1.07</th>\n",
              "      <th>1.08</th>\n",
              "      <th>1.09</th>\n",
              "      <th>1.10</th>\n",
              "      <th>1.11</th>\n",
              "      <th>1.12</th>\n",
              "      <th>1.13</th>\n",
              "      <th>1.14</th>\n",
              "      <th>1.15</th>\n",
              "      <th>1.16</th>\n",
              "      <th>1.17</th>\n",
              "      <th>1.18</th>\n",
              "      <th>1.19</th>\n",
              "      <th>1.20</th>\n",
              "      <th>1.21</th>\n",
              "      <th>1.22</th>\n",
              "      <th>1.23</th>\n",
              "      <th>1.24</th>\n",
              "      <th>1.25</th>\n",
              "      <th>1.26</th>\n",
              "      <th>1.27</th>\n",
              "      <th>1.28</th>\n",
              "      <th>1.29</th>\n",
              "      <th>1.30</th>\n",
              "      <th>1.31</th>\n",
              "      <th>1.32</th>\n",
              "      <th>1.33</th>\n",
              "      <th>1.34</th>\n",
              "      <th>1.35</th>\n",
              "      <th>1.36</th>\n",
              "      <th>1.37</th>\n",
              "      <th>1.38</th>\n",
              "      <th>1.39</th>\n",
              "      <th>...</th>\n",
              "      <th>1.60</th>\n",
              "      <th>1.61</th>\n",
              "      <th>1.62</th>\n",
              "      <th>1.63</th>\n",
              "      <th>1.64</th>\n",
              "      <th>1.65</th>\n",
              "      <th>1.66</th>\n",
              "      <th>1.67</th>\n",
              "      <th>1.68</th>\n",
              "      <th>1.69</th>\n",
              "      <th>1.70</th>\n",
              "      <th>1.71</th>\n",
              "      <th>1.72</th>\n",
              "      <th>1.73</th>\n",
              "      <th>1.74</th>\n",
              "      <th>1.75</th>\n",
              "      <th>1.76</th>\n",
              "      <th>1.77</th>\n",
              "      <th>1.78</th>\n",
              "      <th>1.79</th>\n",
              "      <th>1.80</th>\n",
              "      <th>1.81</th>\n",
              "      <th>1.82</th>\n",
              "      <th>1.83</th>\n",
              "      <th>1.84</th>\n",
              "      <th>1.85</th>\n",
              "      <th>1.86</th>\n",
              "      <th>1.87</th>\n",
              "      <th>1.88</th>\n",
              "      <th>1.89</th>\n",
              "      <th>1.90</th>\n",
              "      <th>1.91</th>\n",
              "      <th>1.92</th>\n",
              "      <th>1.93</th>\n",
              "      <th>1.94</th>\n",
              "      <th>1.95</th>\n",
              "      <th>1.96</th>\n",
              "      <th>1.97</th>\n",
              "      <th>1.98</th>\n",
              "      <th>1.99</th>\n",
              "    </tr>\n",
              "  </thead>\n",
              "  <tbody>\n",
              "    <tr>\n",
              "      <th>0</th>\n",
              "      <td>0.001117</td>\n",
              "      <td>0.001269</td>\n",
              "      <td>0.001441</td>\n",
              "      <td>0.001637</td>\n",
              "      <td>0.001860</td>\n",
              "      <td>0.002113</td>\n",
              "      <td>0.002400</td>\n",
              "      <td>0.002726</td>\n",
              "      <td>0.003097</td>\n",
              "      <td>0.003517</td>\n",
              "      <td>0.003995</td>\n",
              "      <td>0.004537</td>\n",
              "      <td>0.005152</td>\n",
              "      <td>0.005850</td>\n",
              "      <td>0.006641</td>\n",
              "      <td>0.007540</td>\n",
              "      <td>0.008558</td>\n",
              "      <td>0.009713</td>\n",
              "      <td>0.011023</td>\n",
              "      <td>0.012506</td>\n",
              "      <td>0.014186</td>\n",
              "      <td>0.016088</td>\n",
              "      <td>0.018241</td>\n",
              "      <td>0.020675</td>\n",
              "      <td>0.023427</td>\n",
              "      <td>0.026534</td>\n",
              "      <td>0.030042</td>\n",
              "      <td>0.033997</td>\n",
              "      <td>0.038451</td>\n",
              "      <td>0.043464</td>\n",
              "      <td>0.049096</td>\n",
              "      <td>0.055416</td>\n",
              "      <td>0.062496</td>\n",
              "      <td>0.070413</td>\n",
              "      <td>0.079249</td>\n",
              "      <td>0.089086</td>\n",
              "      <td>0.100013</td>\n",
              "      <td>0.112114</td>\n",
              "      <td>0.125476</td>\n",
              "      <td>0.140178</td>\n",
              "      <td>...</td>\n",
              "      <td>0.704560</td>\n",
              "      <td>0.730442</td>\n",
              "      <td>0.754845</td>\n",
              "      <td>0.777712</td>\n",
              "      <td>0.799014</td>\n",
              "      <td>0.818750</td>\n",
              "      <td>0.836943</td>\n",
              "      <td>0.853637</td>\n",
              "      <td>0.868889</td>\n",
              "      <td>0.882770</td>\n",
              "      <td>0.895359</td>\n",
              "      <td>0.906738</td>\n",
              "      <td>0.916995</td>\n",
              "      <td>0.926216</td>\n",
              "      <td>0.934485</td>\n",
              "      <td>0.941886</td>\n",
              "      <td>0.948497</td>\n",
              "      <td>0.954392</td>\n",
              "      <td>0.959641</td>\n",
              "      <td>0.964309</td>\n",
              "      <td>0.968454</td>\n",
              "      <td>0.972132</td>\n",
              "      <td>0.975392</td>\n",
              "      <td>0.978280</td>\n",
              "      <td>0.980835</td>\n",
              "      <td>0.983094</td>\n",
              "      <td>0.985092</td>\n",
              "      <td>0.986856</td>\n",
              "      <td>0.988414</td>\n",
              "      <td>0.989790</td>\n",
              "      <td>0.991003</td>\n",
              "      <td>0.992074</td>\n",
              "      <td>0.993018</td>\n",
              "      <td>0.993850</td>\n",
              "      <td>0.994584</td>\n",
              "      <td>0.995230</td>\n",
              "      <td>0.995800</td>\n",
              "      <td>0.996302</td>\n",
              "      <td>0.996744</td>\n",
              "      <td>0.997133</td>\n",
              "    </tr>\n",
              "    <tr>\n",
              "      <th>1</th>\n",
              "      <td>0.009853</td>\n",
              "      <td>0.010830</td>\n",
              "      <td>0.011904</td>\n",
              "      <td>0.013082</td>\n",
              "      <td>0.014376</td>\n",
              "      <td>0.015795</td>\n",
              "      <td>0.017352</td>\n",
              "      <td>0.019059</td>\n",
              "      <td>0.020931</td>\n",
              "      <td>0.022983</td>\n",
              "      <td>0.025230</td>\n",
              "      <td>0.027690</td>\n",
              "      <td>0.030384</td>\n",
              "      <td>0.033330</td>\n",
              "      <td>0.036551</td>\n",
              "      <td>0.040070</td>\n",
              "      <td>0.043913</td>\n",
              "      <td>0.048106</td>\n",
              "      <td>0.052678</td>\n",
              "      <td>0.057657</td>\n",
              "      <td>0.063076</td>\n",
              "      <td>0.068967</td>\n",
              "      <td>0.075363</td>\n",
              "      <td>0.082301</td>\n",
              "      <td>0.089815</td>\n",
              "      <td>0.097942</td>\n",
              "      <td>0.106718</td>\n",
              "      <td>0.116179</td>\n",
              "      <td>0.126360</td>\n",
              "      <td>0.137295</td>\n",
              "      <td>0.149015</td>\n",
              "      <td>0.161548</td>\n",
              "      <td>0.174918</td>\n",
              "      <td>0.189146</td>\n",
              "      <td>0.204244</td>\n",
              "      <td>0.220219</td>\n",
              "      <td>0.237073</td>\n",
              "      <td>0.254794</td>\n",
              "      <td>0.273366</td>\n",
              "      <td>0.292759</td>\n",
              "      <td>...</td>\n",
              "      <td>0.754990</td>\n",
              "      <td>0.772239</td>\n",
              "      <td>0.788613</td>\n",
              "      <td>0.804109</td>\n",
              "      <td>0.818731</td>\n",
              "      <td>0.832488</td>\n",
              "      <td>0.845398</td>\n",
              "      <td>0.857484</td>\n",
              "      <td>0.868771</td>\n",
              "      <td>0.879291</td>\n",
              "      <td>0.889074</td>\n",
              "      <td>0.898157</td>\n",
              "      <td>0.906574</td>\n",
              "      <td>0.914362</td>\n",
              "      <td>0.921557</td>\n",
              "      <td>0.928194</td>\n",
              "      <td>0.934311</td>\n",
              "      <td>0.939939</td>\n",
              "      <td>0.945114</td>\n",
              "      <td>0.949867</td>\n",
              "      <td>0.954228</td>\n",
              "      <td>0.958227</td>\n",
              "      <td>0.961890</td>\n",
              "      <td>0.965243</td>\n",
              "      <td>0.968312</td>\n",
              "      <td>0.971117</td>\n",
              "      <td>0.973681</td>\n",
              "      <td>0.976023</td>\n",
              "      <td>0.978161</td>\n",
              "      <td>0.980112</td>\n",
              "      <td>0.981892</td>\n",
              "      <td>0.983516</td>\n",
              "      <td>0.984996</td>\n",
              "      <td>0.986345</td>\n",
              "      <td>0.987575</td>\n",
              "      <td>0.988695</td>\n",
              "      <td>0.989715</td>\n",
              "      <td>0.990644</td>\n",
              "      <td>0.991489</td>\n",
              "      <td>0.992259</td>\n",
              "    </tr>\n",
              "    <tr>\n",
              "      <th>2</th>\n",
              "      <td>0.009061</td>\n",
              "      <td>0.009866</td>\n",
              "      <td>0.010743</td>\n",
              "      <td>0.011696</td>\n",
              "      <td>0.012733</td>\n",
              "      <td>0.013861</td>\n",
              "      <td>0.015086</td>\n",
              "      <td>0.016419</td>\n",
              "      <td>0.017867</td>\n",
              "      <td>0.019440</td>\n",
              "      <td>0.021149</td>\n",
              "      <td>0.023004</td>\n",
              "      <td>0.025018</td>\n",
              "      <td>0.027204</td>\n",
              "      <td>0.029574</td>\n",
              "      <td>0.032144</td>\n",
              "      <td>0.034930</td>\n",
              "      <td>0.037948</td>\n",
              "      <td>0.041215</td>\n",
              "      <td>0.044750</td>\n",
              "      <td>0.048573</td>\n",
              "      <td>0.052705</td>\n",
              "      <td>0.057167</td>\n",
              "      <td>0.061982</td>\n",
              "      <td>0.067174</td>\n",
              "      <td>0.072767</td>\n",
              "      <td>0.078787</td>\n",
              "      <td>0.085258</td>\n",
              "      <td>0.092208</td>\n",
              "      <td>0.099663</td>\n",
              "      <td>0.107649</td>\n",
              "      <td>0.116192</td>\n",
              "      <td>0.125318</td>\n",
              "      <td>0.135051</td>\n",
              "      <td>0.145415</td>\n",
              "      <td>0.156430</td>\n",
              "      <td>0.168115</td>\n",
              "      <td>0.180486</td>\n",
              "      <td>0.193556</td>\n",
              "      <td>0.207333</td>\n",
              "      <td>...</td>\n",
              "      <td>0.614133</td>\n",
              "      <td>0.634300</td>\n",
              "      <td>0.654007</td>\n",
              "      <td>0.673199</td>\n",
              "      <td>0.691828</td>\n",
              "      <td>0.709853</td>\n",
              "      <td>0.727239</td>\n",
              "      <td>0.743960</td>\n",
              "      <td>0.759993</td>\n",
              "      <td>0.775326</td>\n",
              "      <td>0.789950</td>\n",
              "      <td>0.803863</td>\n",
              "      <td>0.817067</td>\n",
              "      <td>0.829571</td>\n",
              "      <td>0.841387</td>\n",
              "      <td>0.852529</td>\n",
              "      <td>0.863015</td>\n",
              "      <td>0.872868</td>\n",
              "      <td>0.882108</td>\n",
              "      <td>0.890761</td>\n",
              "      <td>0.898851</td>\n",
              "      <td>0.906406</td>\n",
              "      <td>0.913450</td>\n",
              "      <td>0.920011</td>\n",
              "      <td>0.926115</td>\n",
              "      <td>0.931787</td>\n",
              "      <td>0.937054</td>\n",
              "      <td>0.941940</td>\n",
              "      <td>0.946467</td>\n",
              "      <td>0.950661</td>\n",
              "      <td>0.954541</td>\n",
              "      <td>0.958130</td>\n",
              "      <td>0.961447</td>\n",
              "      <td>0.964511</td>\n",
              "      <td>0.967340</td>\n",
              "      <td>0.969950</td>\n",
              "      <td>0.972358</td>\n",
              "      <td>0.974577</td>\n",
              "      <td>0.976623</td>\n",
              "      <td>0.978508</td>\n",
              "    </tr>\n",
              "    <tr>\n",
              "      <th>3</th>\n",
              "      <td>0.000435</td>\n",
              "      <td>0.000513</td>\n",
              "      <td>0.000605</td>\n",
              "      <td>0.000713</td>\n",
              "      <td>0.000841</td>\n",
              "      <td>0.000992</td>\n",
              "      <td>0.001169</td>\n",
              "      <td>0.001379</td>\n",
              "      <td>0.001626</td>\n",
              "      <td>0.001917</td>\n",
              "      <td>0.002259</td>\n",
              "      <td>0.002663</td>\n",
              "      <td>0.003139</td>\n",
              "      <td>0.003700</td>\n",
              "      <td>0.004361</td>\n",
              "      <td>0.005138</td>\n",
              "      <td>0.006054</td>\n",
              "      <td>0.007131</td>\n",
              "      <td>0.008399</td>\n",
              "      <td>0.009890</td>\n",
              "      <td>0.011643</td>\n",
              "      <td>0.013701</td>\n",
              "      <td>0.016118</td>\n",
              "      <td>0.018953</td>\n",
              "      <td>0.022275</td>\n",
              "      <td>0.026164</td>\n",
              "      <td>0.030711</td>\n",
              "      <td>0.036018</td>\n",
              "      <td>0.042203</td>\n",
              "      <td>0.049396</td>\n",
              "      <td>0.057740</td>\n",
              "      <td>0.067394</td>\n",
              "      <td>0.078527</td>\n",
              "      <td>0.091320</td>\n",
              "      <td>0.105957</td>\n",
              "      <td>0.122624</td>\n",
              "      <td>0.141497</td>\n",
              "      <td>0.162736</td>\n",
              "      <td>0.186471</td>\n",
              "      <td>0.212788</td>\n",
              "      <td>...</td>\n",
              "      <td>0.896115</td>\n",
              "      <td>0.910494</td>\n",
              "      <td>0.923054</td>\n",
              "      <td>0.933980</td>\n",
              "      <td>0.943449</td>\n",
              "      <td>0.951630</td>\n",
              "      <td>0.958680</td>\n",
              "      <td>0.964740</td>\n",
              "      <td>0.969939</td>\n",
              "      <td>0.974392</td>\n",
              "      <td>0.978200</td>\n",
              "      <td>0.981453</td>\n",
              "      <td>0.984228</td>\n",
              "      <td>0.986594</td>\n",
              "      <td>0.988609</td>\n",
              "      <td>0.990324</td>\n",
              "      <td>0.991783</td>\n",
              "      <td>0.993023</td>\n",
              "      <td>0.994077</td>\n",
              "      <td>0.994973</td>\n",
              "      <td>0.995734</td>\n",
              "      <td>0.996380</td>\n",
              "      <td>0.996929</td>\n",
              "      <td>0.997395</td>\n",
              "      <td>0.997790</td>\n",
              "      <td>0.998125</td>\n",
              "      <td>0.998410</td>\n",
              "      <td>0.998651</td>\n",
              "      <td>0.998856</td>\n",
              "      <td>0.999030</td>\n",
              "      <td>0.999177</td>\n",
              "      <td>0.999302</td>\n",
              "      <td>0.999408</td>\n",
              "      <td>0.999498</td>\n",
              "      <td>0.999574</td>\n",
              "      <td>0.999639</td>\n",
              "      <td>0.999694</td>\n",
              "      <td>0.999740</td>\n",
              "      <td>0.999780</td>\n",
              "      <td>0.999813</td>\n",
              "    </tr>\n",
              "    <tr>\n",
              "      <th>4</th>\n",
              "      <td>0.000129</td>\n",
              "      <td>0.000157</td>\n",
              "      <td>0.000191</td>\n",
              "      <td>0.000233</td>\n",
              "      <td>0.000283</td>\n",
              "      <td>0.000344</td>\n",
              "      <td>0.000419</td>\n",
              "      <td>0.000510</td>\n",
              "      <td>0.000620</td>\n",
              "      <td>0.000755</td>\n",
              "      <td>0.000918</td>\n",
              "      <td>0.001117</td>\n",
              "      <td>0.001358</td>\n",
              "      <td>0.001652</td>\n",
              "      <td>0.002010</td>\n",
              "      <td>0.002444</td>\n",
              "      <td>0.002972</td>\n",
              "      <td>0.003614</td>\n",
              "      <td>0.004394</td>\n",
              "      <td>0.005342</td>\n",
              "      <td>0.006492</td>\n",
              "      <td>0.007888</td>\n",
              "      <td>0.009581</td>\n",
              "      <td>0.011634</td>\n",
              "      <td>0.014120</td>\n",
              "      <td>0.017128</td>\n",
              "      <td>0.020763</td>\n",
              "      <td>0.025151</td>\n",
              "      <td>0.030436</td>\n",
              "      <td>0.036790</td>\n",
              "      <td>0.044411</td>\n",
              "      <td>0.053521</td>\n",
              "      <td>0.064375</td>\n",
              "      <td>0.077251</td>\n",
              "      <td>0.092447</td>\n",
              "      <td>0.110275</td>\n",
              "      <td>0.131045</td>\n",
              "      <td>0.155045</td>\n",
              "      <td>0.182517</td>\n",
              "      <td>0.213627</td>\n",
              "      <td>...</td>\n",
              "      <td>0.943569</td>\n",
              "      <td>0.953150</td>\n",
              "      <td>0.961172</td>\n",
              "      <td>0.967867</td>\n",
              "      <td>0.973439</td>\n",
              "      <td>0.978067</td>\n",
              "      <td>0.981903</td>\n",
              "      <td>0.985079</td>\n",
              "      <td>0.987704</td>\n",
              "      <td>0.989872</td>\n",
              "      <td>0.991661</td>\n",
              "      <td>0.993137</td>\n",
              "      <td>0.994352</td>\n",
              "      <td>0.995354</td>\n",
              "      <td>0.996178</td>\n",
              "      <td>0.996857</td>\n",
              "      <td>0.997415</td>\n",
              "      <td>0.997875</td>\n",
              "      <td>0.998253</td>\n",
              "      <td>0.998564</td>\n",
              "      <td>0.998819</td>\n",
              "      <td>0.999029</td>\n",
              "      <td>0.999202</td>\n",
              "      <td>0.999344</td>\n",
              "      <td>0.999461</td>\n",
              "      <td>0.999557</td>\n",
              "      <td>0.999636</td>\n",
              "      <td>0.999701</td>\n",
              "      <td>0.999754</td>\n",
              "      <td>0.999798</td>\n",
              "      <td>0.999834</td>\n",
              "      <td>0.999863</td>\n",
              "      <td>0.999888</td>\n",
              "      <td>0.999908</td>\n",
              "      <td>0.999924</td>\n",
              "      <td>0.999938</td>\n",
              "      <td>0.999949</td>\n",
              "      <td>0.999958</td>\n",
              "      <td>0.999965</td>\n",
              "      <td>0.999972</td>\n",
              "    </tr>\n",
              "  </tbody>\n",
              "</table>\n",
              "<p>5 rows × 100 columns</p>\n",
              "</div>\n",
              "      <button class=\"colab-df-convert\" onclick=\"convertToInteractive('df-7af12a3f-d39f-405a-8059-3e0eb3d5d127')\"\n",
              "              title=\"Convert this dataframe to an interactive table.\"\n",
              "              style=\"display:none;\">\n",
              "        \n",
              "  <svg xmlns=\"http://www.w3.org/2000/svg\" height=\"24px\"viewBox=\"0 0 24 24\"\n",
              "       width=\"24px\">\n",
              "    <path d=\"M0 0h24v24H0V0z\" fill=\"none\"/>\n",
              "    <path d=\"M18.56 5.44l.94 2.06.94-2.06 2.06-.94-2.06-.94-.94-2.06-.94 2.06-2.06.94zm-11 1L8.5 8.5l.94-2.06 2.06-.94-2.06-.94L8.5 2.5l-.94 2.06-2.06.94zm10 10l.94 2.06.94-2.06 2.06-.94-2.06-.94-.94-2.06-.94 2.06-2.06.94z\"/><path d=\"M17.41 7.96l-1.37-1.37c-.4-.4-.92-.59-1.43-.59-.52 0-1.04.2-1.43.59L10.3 9.45l-7.72 7.72c-.78.78-.78 2.05 0 2.83L4 21.41c.39.39.9.59 1.41.59.51 0 1.02-.2 1.41-.59l7.78-7.78 2.81-2.81c.8-.78.8-2.07 0-2.86zM5.41 20L4 18.59l7.72-7.72 1.47 1.35L5.41 20z\"/>\n",
              "  </svg>\n",
              "      </button>\n",
              "      \n",
              "  <style>\n",
              "    .colab-df-container {\n",
              "      display:flex;\n",
              "      flex-wrap:wrap;\n",
              "      gap: 12px;\n",
              "    }\n",
              "\n",
              "    .colab-df-convert {\n",
              "      background-color: #E8F0FE;\n",
              "      border: none;\n",
              "      border-radius: 50%;\n",
              "      cursor: pointer;\n",
              "      display: none;\n",
              "      fill: #1967D2;\n",
              "      height: 32px;\n",
              "      padding: 0 0 0 0;\n",
              "      width: 32px;\n",
              "    }\n",
              "\n",
              "    .colab-df-convert:hover {\n",
              "      background-color: #E2EBFA;\n",
              "      box-shadow: 0px 1px 2px rgba(60, 64, 67, 0.3), 0px 1px 3px 1px rgba(60, 64, 67, 0.15);\n",
              "      fill: #174EA6;\n",
              "    }\n",
              "\n",
              "    [theme=dark] .colab-df-convert {\n",
              "      background-color: #3B4455;\n",
              "      fill: #D2E3FC;\n",
              "    }\n",
              "\n",
              "    [theme=dark] .colab-df-convert:hover {\n",
              "      background-color: #434B5C;\n",
              "      box-shadow: 0px 1px 3px 1px rgba(0, 0, 0, 0.15);\n",
              "      filter: drop-shadow(0px 1px 2px rgba(0, 0, 0, 0.3));\n",
              "      fill: #FFFFFF;\n",
              "    }\n",
              "  </style>\n",
              "\n",
              "      <script>\n",
              "        const buttonEl =\n",
              "          document.querySelector('#df-7af12a3f-d39f-405a-8059-3e0eb3d5d127 button.colab-df-convert');\n",
              "        buttonEl.style.display =\n",
              "          google.colab.kernel.accessAllowed ? 'block' : 'none';\n",
              "\n",
              "        async function convertToInteractive(key) {\n",
              "          const element = document.querySelector('#df-7af12a3f-d39f-405a-8059-3e0eb3d5d127');\n",
              "          const dataTable =\n",
              "            await google.colab.kernel.invokeFunction('convertToInteractive',\n",
              "                                                     [key], {});\n",
              "          if (!dataTable) return;\n",
              "\n",
              "          const docLinkHtml = 'Like what you see? Visit the ' +\n",
              "            '<a target=\"_blank\" href=https://colab.research.google.com/notebooks/data_table.ipynb>data table notebook</a>'\n",
              "            + ' to learn more about interactive tables.';\n",
              "          element.innerHTML = '';\n",
              "          dataTable['output_type'] = 'display_data';\n",
              "          await google.colab.output.renderOutput(dataTable, element);\n",
              "          const docLink = document.createElement('div');\n",
              "          docLink.innerHTML = docLinkHtml;\n",
              "          element.appendChild(docLink);\n",
              "        }\n",
              "      </script>\n",
              "    </div>\n",
              "  </div>\n",
              "  "
            ],
            "text/plain": [
              "       1.00      1.01      1.02  ...      1.97      1.98      1.99\n",
              "0  0.001117  0.001269  0.001441  ...  0.996302  0.996744  0.997133\n",
              "1  0.009853  0.010830  0.011904  ...  0.990644  0.991489  0.992259\n",
              "2  0.009061  0.009866  0.010743  ...  0.974577  0.976623  0.978508\n",
              "3  0.000435  0.000513  0.000605  ...  0.999740  0.999780  0.999813\n",
              "4  0.000129  0.000157  0.000191  ...  0.999958  0.999965  0.999972\n",
              "\n",
              "[5 rows x 100 columns]"
            ]
          },
          "metadata": {},
          "execution_count": 50
        }
      ]
    },
    {
      "cell_type": "code",
      "source": [
        "low_y50, high_y50 = mstats.mquantiles(df_b, [0.25, 0.75], axis=0) \n",
        "low_y95, high_y95 = mstats.mquantiles(df_b, [0.025, 0.975], axis=0) \n",
        "low_y50.shape"
      ],
      "metadata": {
        "colab": {
          "base_uri": "https://localhost:8080/"
        },
        "id": "Yqm2foZhQlXM",
        "outputId": "30631a3c-5b5b-455e-d3a1-999a0ba93a1f"
      },
      "execution_count": 51,
      "outputs": [
        {
          "output_type": "execute_result",
          "data": {
            "text/plain": [
              "(100,)"
            ]
          },
          "metadata": {},
          "execution_count": 51
        }
      ]
    },
    {
      "cell_type": "code",
      "source": [
        "plt.scatter(df[\"log10 C\"], df[\"death\"])\n",
        "plt.fill_between(x, low_y95, high_y95, alpha=.3, color=\"gray\")\n",
        "plt.fill_between(x, low_y50, high_y50, alpha=.8, color=\"darkgray\")\n",
        "plt.plot(x, f(a * x + b))"
      ],
      "metadata": {
        "colab": {
          "base_uri": "https://localhost:8080/",
          "height": 283
        },
        "id": "T3-Hik_5Qwc1",
        "outputId": "8cce63f2-8f0f-429a-d93b-840053b0d8d1"
      },
      "execution_count": 55,
      "outputs": [
        {
          "output_type": "execute_result",
          "data": {
            "text/plain": [
              "[<matplotlib.lines.Line2D at 0x7f29771f3d90>]"
            ]
          },
          "metadata": {},
          "execution_count": 55
        },
        {
          "output_type": "display_data",
          "data": {
            "image/png": "[encoded data removed]",
            "text/plain": [
              "<Figure size 432x288 with 1 Axes>"
            ]
          },
          "metadata": {}
        }
      ]
    },
    {
      "cell_type": "code",
      "source": [
        ""
      ],
      "metadata": {
        "id": "ZaAP9v7QRszm"
      },
      "execution_count": null,
      "outputs": []
    }
  ]
}